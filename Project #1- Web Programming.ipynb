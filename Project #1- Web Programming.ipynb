{
 "cells": [
  {
   "cell_type": "code",
   "execution_count": null,
   "metadata": {},
   "outputs": [
    {
     "name": "stderr",
     "output_type": "stream",
     "text": [
      "[04/Apr/2020:18:16:26] ENGINE Listening for SIGTERM.\n",
      "[04/Apr/2020:18:16:26] ENGINE Listening for SIGHUP.\n",
      "[04/Apr/2020:18:16:26] ENGINE Listening for SIGUSR1.\n",
      "[04/Apr/2020:18:16:26] ENGINE Bus STARTING\n",
      "CherryPy Checker:\n",
      "The Application mounted at '' has an empty config.\n",
      "\n",
      "[04/Apr/2020:18:16:26] ENGINE Started monitor thread 'Autoreloader'.\n",
      "[04/Apr/2020:18:16:27] ENGINE Error in 'start' listener <bound method Server.start of <cherrypy._cpserver.Server object at 0x10910b550>>\n",
      "Traceback (most recent call last):\n",
      "  File \"/opt/anaconda3/lib/python3.7/site-packages/portend.py\", line 115, in free\n",
      "    Checker(timeout=0.1).assert_free(host, port)\n",
      "  File \"/opt/anaconda3/lib/python3.7/site-packages/portend.py\", line 69, in assert_free\n",
      "    list(itertools.starmap(self._connect, info))\n",
      "  File \"/opt/anaconda3/lib/python3.7/site-packages/portend.py\", line 85, in _connect\n",
      "    raise PortNotFree(tmpl.format(**locals()))\n",
      "portend.PortNotFree: Port 127.0.0.1 is in use on 8080.\n",
      "\n",
      "During handling of the above exception, another exception occurred:\n",
      "\n",
      "Traceback (most recent call last):\n",
      "  File \"/opt/anaconda3/lib/python3.7/site-packages/cherrypy/process/wspbus.py\", line 230, in publish\n",
      "    output.append(listener(*args, **kwargs))\n",
      "  File \"/opt/anaconda3/lib/python3.7/site-packages/cherrypy/_cpserver.py\", line 180, in start\n",
      "    super(Server, self).start()\n",
      "  File \"/opt/anaconda3/lib/python3.7/site-packages/cherrypy/process/servers.py\", line 177, in start\n",
      "    portend.free(*self.bind_addr, timeout=Timeouts.free)\n",
      "  File \"/opt/anaconda3/lib/python3.7/site-packages/portend.py\", line 119, in free\n",
      "    raise Timeout(\"Port {port} not free on {host}.\".format(**locals()))\n",
      "portend.Timeout: Port 8080 not free on 127.0.0.1.\n",
      "\n",
      "[04/Apr/2020:18:16:27] ENGINE Shutting down due to error in start listener:\n",
      "Traceback (most recent call last):\n",
      "  File \"/opt/anaconda3/lib/python3.7/site-packages/cherrypy/process/wspbus.py\", line 268, in start\n",
      "    self.publish('start')\n",
      "  File \"/opt/anaconda3/lib/python3.7/site-packages/cherrypy/process/wspbus.py\", line 248, in publish\n",
      "    raise exc\n",
      "cherrypy.process.wspbus.ChannelFailures: Timeout('Port 8080 not free on 127.0.0.1.')\n",
      "\n",
      "[04/Apr/2020:18:16:27] ENGINE Bus STOPPING\n",
      "[04/Apr/2020:18:16:27] ENGINE HTTP Server cherrypy._cpwsgi_server.CPWSGIServer(('127.0.0.1', 8080)) already shut down\n",
      "[04/Apr/2020:18:16:27] ENGINE Stopped thread 'Autoreloader'.\n",
      "[04/Apr/2020:18:16:27] ENGINE Bus STOPPED\n",
      "[04/Apr/2020:18:16:27] ENGINE Bus EXITING\n"
     ]
    }
   ],
   "source": [
    "import cherrypy\n",
    "\n",
    "class FirstPage(object):\n",
    "    def HandleData (self,data= None):\n",
    "        return data\n",
    "    HandleData.exposed=True\n",
    "    def index(self):\n",
    "        return \"\"\"<form action=\"HandleData\" method=post>\n",
    "                    <input type=\"text\" name=\"data\">\n",
    "                    <input type=\"submit\" value =\"submit!\">\"\"\"\n",
    "    index.exposed = True\n",
    "    \n",
    "cherrypy.quickstart(FirstPage())"
   ]
  },
  {
   "cell_type": "code",
   "execution_count": null,
   "metadata": {},
   "outputs": [],
   "source": []
  }
 ],
 "metadata": {
  "kernelspec": {
   "display_name": "Python 3",
   "language": "python",
   "name": "python3"
  },
  "language_info": {
   "codemirror_mode": {
    "name": "ipython",
    "version": 3
   },
   "file_extension": ".py",
   "mimetype": "text/x-python",
   "name": "python",
   "nbconvert_exporter": "python",
   "pygments_lexer": "ipython3",
   "version": "3.7.6"
  }
 },
 "nbformat": 4,
 "nbformat_minor": 4
}
